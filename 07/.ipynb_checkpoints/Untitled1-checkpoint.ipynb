{
 "cells": [
  {
   "cell_type": "code",
   "execution_count": 12,
   "metadata": {},
   "outputs": [],
   "source": [
    "def pop(key, index):\n",
    "    output = ''\n",
    "    output += '\\n'\n",
    "    output += 'A=A+'+str(index)+'\\n'\n",
    "\n",
    "    output += 'D=A\\n'\n",
    "    output += '@SP\\n'\n",
    "    output += 'A=M\\n'\n",
    "    output += 'M=D\\n'\n",
    "    output += '@SP\\n'\n",
    "    output += 'M=M-1\\n'\n",
    "    return output\n",
    "\n",
    "\n",
    "def push(key, index):\n",
    "    output = ''\n",
    "    output += '\\n'\n",
    "    output += 'A=A+'+str(index)+'\\n'\n",
    "\n",
    "    output += 'D=A\\n'\n",
    "    output += '@SP\\n'\n",
    "    output += 'A=M\\n'\n",
    "    output += 'M=D\\n'\n",
    "    output += '@SP\\n'\n",
    "    output += 'M=M+1\\n'\n",
    "    return output\n",
    "\n",
    "def add():\n",
    "    output = '\\n'\n",
    "    output += '@SP\\n'\n",
    "    output += 'A=M\\n'\n",
    "    output += 'A=A-1\\n'\n",
    "    output += 'D=M\\n'\n",
    "    output += 'A=A-1\\n'\n",
    "    output += 'M=D+M\\n'\n",
    "    output += '@SP\\n'\n",
    "    output += 'M=M-1\\n'\n",
    "\n",
    "  \n",
    "\n",
    "\n",
    "    return output"
   ]
  },
  {
   "cell_type": "code",
   "execution_count": 33,
   "metadata": {
    "scrolled": true
   },
   "outputs": [],
   "source": [
    "class Pasrer:\n",
    "    def __init__(self,Input_file):\n",
    "        self.code = []\n",
    "        self.constructor(Input_file)\n",
    "\n",
    "    def constructor(self, Input_file):\n",
    "        with open(Input_file, 'rb') as f:\n",
    "            while True:\n",
    "                new_line = f.readline()\n",
    "                if self.hasMoreCommands(new_line):\n",
    "                    self.advance(new_line)\n",
    "                else:\n",
    "                    break\n",
    "\n",
    "    def hasMoreCommands(self, string):\n",
    "        return not (not string)\n",
    "\n",
    "    def advance(self,new_line):\n",
    "        new_line = new_line.decode(\"utf-8\")\n",
    "        new_line = new_line.strip()\n",
    "        if not new_line.startswith('//') and new_line!='':\n",
    "            self.code.append(new_line.split())"
   ]
  },
  {
   "cell_type": "code",
   "execution_count": 34,
   "metadata": {},
   "outputs": [],
   "source": [
    "parser = Pasrer('./StackArithmetic/SimpleAdd/SimpleAdd.vm')"
   ]
  },
  {
   "cell_type": "code",
   "execution_count": 35,
   "metadata": {},
   "outputs": [
    {
     "data": {
      "text/plain": [
       "[[], ['push', 'constant', '7'], ['push', 'constant', '8'], ['add']]"
      ]
     },
     "execution_count": 35,
     "metadata": {},
     "output_type": "execute_result"
    }
   ],
   "source": [
    "parser.code"
   ]
  },
  {
   "cell_type": "code",
   "execution_count": null,
   "metadata": {},
   "outputs": [],
   "source": []
  }
 ],
 "metadata": {
  "kernelspec": {
   "display_name": "Python 3",
   "language": "python",
   "name": "python3"
  },
  "language_info": {
   "codemirror_mode": {
    "name": "ipython",
    "version": 3
   },
   "file_extension": ".py",
   "mimetype": "text/x-python",
   "name": "python",
   "nbconvert_exporter": "python",
   "pygments_lexer": "ipython3",
   "version": "3.8.5"
  }
 },
 "nbformat": 4,
 "nbformat_minor": 4
}
